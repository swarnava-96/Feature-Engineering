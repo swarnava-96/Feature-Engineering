{
  "nbformat": 4,
  "nbformat_minor": 0,
  "metadata": {
    "colab": {
      "name": "Outliers intro",
      "provenance": [],
      "authorship_tag": "ABX9TyOKqmz7Sm2CrIpyt0a8mExP",
      "include_colab_link": true
    },
    "kernelspec": {
      "name": "python3",
      "display_name": "Python 3"
    },
    "language_info": {
      "name": "python"
    }
  },
  "cells": [
    {
      "cell_type": "markdown",
      "metadata": {
        "id": "view-in-github",
        "colab_type": "text"
      },
      "source": [
        "<a href=\"https://colab.research.google.com/github/swarnava-96/Feature-Engineering/blob/main/Outliers_intro.ipynb\" target=\"_parent\"><img src=\"https://colab.research.google.com/assets/colab-badge.svg\" alt=\"Open In Colab\"/></a>"
      ]
    },
    {
      "cell_type": "markdown",
      "metadata": {
        "id": "cW_xoW_FgtGx"
      },
      "source": [
        "#**Introduction to Handling Outliers**\n",
        "\n",
        "#### What is an outlier?\n",
        "An outlier is a data point in a data set that is distant from all other observations. A data point that lies outside the overall distribution of the dataset."
      ]
    },
    {
      "cell_type": "code",
      "metadata": {
        "id": "JaQvUZ1-g4C7"
      },
      "source": [
        "import numpy as np\n",
        "import matplotlib.pyplot as plt\n",
        "%matplotlib inline"
      ],
      "execution_count": 1,
      "outputs": []
    },
    {
      "cell_type": "markdown",
      "metadata": {
        "id": "KHcpeG37hAVT"
      },
      "source": [
        "#### What are the criteria to identify an outlier?\n",
        "1. Data point that falls outside of 1.5 times of an interquartile range above the 3rd quartile and below the 1st quartile.\n",
        "2. Data point that falls outside of 3 standard deviations. We can use a z score and if the z score falls outside of 2 standard deviation.\n",
        "\n",
        "#### What is the reason for an outlier to exists in a dataset?\n",
        "1. Variability in the data.\n",
        "2. An experimental measurement error.\n",
        "\n",
        "#### What are the impacts of having outliers in a dataset?\n",
        "1. It causes various problems during our statistical analysis.\n",
        "2. It may cause a significant impact on the mean and the standard deviation.\n",
        "\n",
        "#### Various ways of finding the outlier.\n",
        "1. Using scatter plots\n",
        "2. Box plot\n",
        "3. using z score\n",
        "4. using the IQR interquantile range"
      ]
    },
    {
      "cell_type": "code",
      "metadata": {
        "id": "hFn4bokPhbrj"
      },
      "source": [
        "dataset= [11,10,12,14,12,15,14,13,15,102,12,14,17,19,107, 10,13,12,14,12,108,12,11,14,13,15,10,15,12,10,14,13,15,10]"
      ],
      "execution_count": 2,
      "outputs": []
    },
    {
      "cell_type": "markdown",
      "metadata": {
        "id": "vwl3oWgshr6f"
      },
      "source": [
        "#### Detecting outlier using Z score\n",
        "\n",
        "* Using Z score\n",
        "* Formula for Z score = (Observation — Mean)/Standard Deviation\n",
        "\n",
        "z = (X — μ) / σ"
      ]
    },
    {
      "cell_type": "code",
      "metadata": {
        "id": "hh0DeCEqhxOb"
      },
      "source": [
        "# Creating a function that can detect outliers within our dataset\n",
        "\n",
        "outlier = []\n",
        "\n",
        "def detect_ouliers(data):\n",
        "  threshold = 3\n",
        "  mean = np.mean(data)\n",
        "  std = np.std(data)\n",
        "\n",
        "  for i in data:\n",
        "    z_score = (i - mean)/std\n",
        "    if np.abs(z_score) > threshold:\n",
        "      outlier.append(i)\n",
        "\n",
        "  return outlier"
      ],
      "execution_count": 3,
      "outputs": []
    },
    {
      "cell_type": "code",
      "metadata": {
        "id": "TZ0A2tAbikea"
      },
      "source": [
        "outlier_pt = detect_ouliers(dataset)"
      ],
      "execution_count": 4,
      "outputs": []
    },
    {
      "cell_type": "code",
      "metadata": {
        "colab": {
          "base_uri": "https://localhost:8080/"
        },
        "id": "71Wg75jqisky",
        "outputId": "e214f988-ee77-413e-e7d5-c82a4d42e7de"
      },
      "source": [
        "outlier_pt"
      ],
      "execution_count": 5,
      "outputs": [
        {
          "output_type": "execute_result",
          "data": {
            "text/plain": [
              "[102, 107, 108]"
            ]
          },
          "metadata": {
            "tags": []
          },
          "execution_count": 5
        }
      ]
    },
    {
      "cell_type": "markdown",
      "metadata": {
        "id": "T7CeTUUJi60V"
      },
      "source": [
        "#### InterQuantile Range\n",
        "75%- 25% values in a dataset\n",
        "\n",
        "Steps\n",
        "1. Arrange the data in increasing order\n",
        "2. Calculate first(q1) and third quartile(q3)\n",
        "3. Find interquartile range (q3-q1)\n",
        "4. Find lower bound q1*1.5\n",
        "5. Find upper bound q3*1.5\n",
        "Anything that lies outside of lower and upper bound is an outlier."
      ]
    },
    {
      "cell_type": "code",
      "metadata": {
        "colab": {
          "base_uri": "https://localhost:8080/"
        },
        "id": "bjcTWpVUjETq",
        "outputId": "04a2dd7e-4c15-49a2-ea80-1a8d2b3e53df"
      },
      "source": [
        "# Perform all the steps of IQR\n",
        "sorted(dataset)"
      ],
      "execution_count": 6,
      "outputs": [
        {
          "output_type": "execute_result",
          "data": {
            "text/plain": [
              "[10,\n",
              " 10,\n",
              " 10,\n",
              " 10,\n",
              " 10,\n",
              " 11,\n",
              " 11,\n",
              " 12,\n",
              " 12,\n",
              " 12,\n",
              " 12,\n",
              " 12,\n",
              " 12,\n",
              " 12,\n",
              " 13,\n",
              " 13,\n",
              " 13,\n",
              " 13,\n",
              " 14,\n",
              " 14,\n",
              " 14,\n",
              " 14,\n",
              " 14,\n",
              " 14,\n",
              " 15,\n",
              " 15,\n",
              " 15,\n",
              " 15,\n",
              " 15,\n",
              " 17,\n",
              " 19,\n",
              " 102,\n",
              " 107,\n",
              " 108]"
            ]
          },
          "metadata": {
            "tags": []
          },
          "execution_count": 6
        }
      ]
    },
    {
      "cell_type": "code",
      "metadata": {
        "id": "1sXQcegwjMVD"
      },
      "source": [
        "# Calculating the 25 and 75 percentile\n",
        "\n",
        "quantile1, quantile3= np.percentile(dataset,[25,75])"
      ],
      "execution_count": 7,
      "outputs": []
    },
    {
      "cell_type": "code",
      "metadata": {
        "colab": {
          "base_uri": "https://localhost:8080/"
        },
        "id": "9ecsUE0QjWDp",
        "outputId": "920059f4-163f-44d1-c17f-6524d847c2d7"
      },
      "source": [
        "print(quantile1, quantile3)"
      ],
      "execution_count": 8,
      "outputs": [
        {
          "output_type": "stream",
          "text": [
            "12.0 15.0\n"
          ],
          "name": "stdout"
        }
      ]
    },
    {
      "cell_type": "code",
      "metadata": {
        "colab": {
          "base_uri": "https://localhost:8080/"
        },
        "id": "s_EQk27RjcKq",
        "outputId": "d498593a-7899-4cd1-bf00-26c674755dbd"
      },
      "source": [
        "## Find the IQR\n",
        "\n",
        "iqr_value = quantile3 - quantile1\n",
        "print(iqr_value)"
      ],
      "execution_count": 9,
      "outputs": [
        {
          "output_type": "stream",
          "text": [
            "3.0\n"
          ],
          "name": "stdout"
        }
      ]
    },
    {
      "cell_type": "code",
      "metadata": {
        "id": "1mfdW5jojhZe"
      },
      "source": [
        "# Find the lower bound value and the higher bound value\n",
        "\n",
        "lower_bound_val = quantile1 - (1.5 * iqr_value) \n",
        "upper_bound_val = quantile3 + (1.5 * iqr_value)"
      ],
      "execution_count": 11,
      "outputs": []
    },
    {
      "cell_type": "code",
      "metadata": {
        "colab": {
          "base_uri": "https://localhost:8080/"
        },
        "id": "azKm9OqQjlwy",
        "outputId": "fde60305-cb54-4062-e5c8-890c19e315e4"
      },
      "source": [
        "print(lower_bound_val,upper_bound_val)"
      ],
      "execution_count": 12,
      "outputs": [
        {
          "output_type": "stream",
          "text": [
            "7.5 19.5\n"
          ],
          "name": "stdout"
        }
      ]
    }
  ]
}